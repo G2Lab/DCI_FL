{
 "cells": [
  {
   "cell_type": "code",
   "execution_count": 1,
   "id": "46ab09d5",
   "metadata": {},
   "outputs": [],
   "source": [
    "import pandas as pd\n",
    "import numpy as np\n",
    "from sklearn.model_selection import train_test_split\n",
    "from sklearn.preprocessing import StandardScaler\n",
    "from sklearn import metrics\n",
    "from sklearn.ensemble import RandomForestClassifier, VotingClassifier\n",
    "from sklearn.model_selection import GridSearchCV, RandomizedSearchCV\n",
    "from sklearn.calibration import CalibratedClassifierCV\n",
    "from sklearn.linear_model import LogisticRegression\n",
    "from sklearn.svm import SVC\n",
    "import subprocess\n",
    "import sys\n",
    "sys.path.append('C:\\\\Users\\\\ae2722\\\\Documents\\\\DCI_code\\\\helperCode')\n",
    "import main_create_model as mm\n",
    "import tensorflow as tf"
   ]
  },
  {
   "cell_type": "code",
   "execution_count": 2,
   "id": "13e6ed1d",
   "metadata": {},
   "outputs": [],
   "source": [
    "##load the data and create train/test split\n",
    "def dataloader(path, client, numofhours):\n",
    "    dfs = ['X_train_norm', 'X_test_norm', 'X_val_norm', 'y_train', 'y_test', 'y_val']\n",
    "    for i, df in zip(range(6), dfs):\n",
    "        globals()[df] = pd.read_excel(open(f'{path}client/Data/dataset_client_{client}_{numofhours}.xlsx', 'rb'),\n",
    "                  sheet_name=f'sheet{i}', index_col = 0)\n",
    "    return X_train_norm, X_test_norm, X_val_norm, y_train, y_test, y_val"
   ]
  },
  {
   "cell_type": "markdown",
   "id": "a97e7eae",
   "metadata": {},
   "source": [
    "## Models"
   ]
  },
  {
   "cell_type": "code",
   "execution_count": 3,
   "id": "062c83e5",
   "metadata": {},
   "outputs": [],
   "source": [
    "clients = 'CUMC,UTH,Aachen'.split(',')\n",
    "path = '/Users/ae2722/Documents/DCI_code/'"
   ]
  },
  {
   "cell_type": "code",
   "execution_count": 4,
   "id": "5cba3a7b",
   "metadata": {},
   "outputs": [],
   "source": [
    "##create the keras model (LR in this case)\n",
    "def create_keras_model():\n",
    "    initializer = tf.keras.initializers.GlorotNormal(seed=0)\n",
    "    ##build LR model\n",
    "    number_of_classes = 1\n",
    "    number_of_features = 70\n",
    "    model = tf.keras.Sequential()\n",
    "    model.add(tf.keras.layers.Dense(number_of_classes,activation = 'sigmoid',\n",
    "                                    input_dim = number_of_features,\n",
    "                                   kernel_regularizer=tf.keras.regularizers.l2(l=0.1)))\n",
    "    model.compile(optimizer='adam', loss='binary_crossentropy', metrics=['AUC'])\n",
    "    return model"
   ]
  },
  {
   "cell_type": "code",
   "execution_count": 9,
   "id": "62e04ffb",
   "metadata": {},
   "outputs": [],
   "source": [
    "def run_model(path, numofhours):\n",
    "    \n",
    "    X_train_norm_c , X_test_norm_c, X_val_norm_c, y_train_c, y_test_c, y_val_c =  dataloader(path, 'CUMC', numofhours)\n",
    "    X_train_norm_u , X_test_norm_u, X_val_norm_u, y_train_u, y_test_u, y_val_u =  dataloader(path, 'UTH', numofhours)\n",
    "    X_train_norm_a , X_test_norm_a, X_val_norm_a, y_train_a, y_test_a, y_val_a =  dataloader(path, 'Aachen', numofhours)\n",
    "   \n",
    "    \n",
    "    X_train_norm_c ,y_train_c, = pd.concat([X_train_norm_c, X_val_norm_c], axis =0), pd.concat([y_train_c, y_val_c], axis =0)\n",
    "    X_train_norm_u ,y_train_u, = pd.concat([X_train_norm_u, X_val_norm_u], axis =0), pd.concat([y_train_u, y_val_u], axis =0)\n",
    "    X_train_norm_a ,y_train_a, = pd.concat([X_train_norm_a, X_val_norm_a], axis =0), pd.concat([y_train_a, y_val_a], axis =0)\n",
    "\n",
    "\n",
    "    X_train_norm, X_test_norm, y_train, y_test = pd.concat([X_train_norm_c, X_train_norm_a, X_train_norm_u], axis =0), pd.concat([X_test_norm_c, X_test_norm_a, X_test_norm_u], axis =0), pd.concat([y_train_c, y_train_a, y_train_u], axis =0), pd.concat([y_test_c, y_test_a, y_test_u], axis =0)\n",
    "\n",
    "\n",
    "\n",
    "    ##LR model\n",
    "    clf1 = LogisticRegression(solver = 'sag')\n",
    "    clf1.fit(X_train_norm, y_train)\n",
    "    fpr_c, tpr_c, thresholds = metrics.roc_curve(y_test_c.values, clf1.predict_proba(X_test_norm_c)[:,1])\n",
    "    fpr_u, tpr_u, thresholds = metrics.roc_curve(y_test_u.values, clf1.predict_proba(X_test_norm_u)[:,1])\n",
    "    fpr_a, tpr_a, thresholds = metrics.roc_curve(y_test_a.values, clf1.predict_proba(X_test_norm_a)[:,1])\n",
    "    LR_AUC_c = metrics.auc(fpr_c, tpr_c)\n",
    "    LR_AUC_u = metrics.auc(fpr_u, tpr_u)\n",
    "    LR_AUC_a = metrics.auc(fpr_a, tpr_a)\n",
    "\n",
    "    ##RF model\n",
    "    clf2 =RandomForestClassifier()\n",
    "    \n",
    "    param_grid = {\n",
    "            'n_estimators': [5, 10, 20],\n",
    "            'max_features': ['auto','log2'],\n",
    "            \"bootstrap\": [True, False],\n",
    "            'criterion': [\"gini\", \"entropy\"],\n",
    "            'max_depth':[1,2,3,4,5,6,7,8,10,15,20]\n",
    "        }\n",
    "\n",
    "    n_iter_search = 16\n",
    "    CV_rfc = RandomizedSearchCV(clf2, param_distributions=param_grid,\n",
    "                                           n_iter=n_iter_search, cv=5,n_jobs=-1,scoring='roc_auc')\n",
    "    CV_rfc.fit(X_train_norm, y_train)\n",
    "    fpr_c, tpr_c, thresholds = metrics.roc_curve(y_test_c.values, CV_rfc.predict_proba(X_test_norm_c)[:,1])\n",
    "    fpr_u, tpr_u, thresholds = metrics.roc_curve(y_test_u.values, CV_rfc.predict_proba(X_test_norm_u)[:,1])\n",
    "    fpr_a, tpr_a, thresholds = metrics.roc_curve(y_test_a.values, CV_rfc.predict_proba(X_test_norm_a)[:,1])\n",
    "    RF_AUC_c = metrics.auc(fpr_c, tpr_c)\n",
    "    RF_AUC_u = metrics.auc(fpr_u, tpr_u)\n",
    "    RF_AUC_a = metrics.auc(fpr_a, tpr_a)\n",
    "\n",
    "    ##SVM model\n",
    "    clf3 = SVC(probability = True)\n",
    "    clf3.fit(X_train_norm, y_train)\n",
    "    fpr_c, tpr_c, thresholds = metrics.roc_curve(y_test_c.values, clf3.predict_proba(X_test_norm_c)[:,1])\n",
    "    fpr_u, tpr_u, thresholds = metrics.roc_curve(y_test_u.values, clf3.predict_proba(X_test_norm_u)[:,1])\n",
    "    fpr_a, tpr_a, thresholds = metrics.roc_curve(y_test_a.values, clf3.predict_proba(X_test_norm_a)[:,1])\n",
    "    SVM_AUC_c = metrics.auc(fpr_c, tpr_c)\n",
    "    SVM_AUC_u = metrics.auc(fpr_u, tpr_u)\n",
    "    SVM_AUC_a = metrics.auc(fpr_a, tpr_a)\n",
    "\n",
    "    eclf1 = VotingClassifier(estimators=[ ('lr', clf1), ('rf', clf2), ('svc', clf3)], voting='soft')\n",
    "    eclf1 = eclf1.fit(X_train_norm, y_train) \n",
    "    fpr_c, tpr_c, thresholds = metrics.roc_curve(y_test_c.values, eclf1.predict_proba(X_test_norm_c)[:,1])\n",
    "    fpr_u, tpr_u, thresholds = metrics.roc_curve(y_test_u.values, eclf1.predict_proba(X_test_norm_u)[:,1])\n",
    "    fpr_a, tpr_a, thresholds = metrics.roc_curve(y_test_a.values, eclf1.predict_proba(X_test_norm_a)[:,1])\n",
    "    EN_AUC_c = metrics.auc(fpr_c, tpr_c)\n",
    "    EN_AUC_u = metrics.auc(fpr_u, tpr_u)\n",
    "    EN_AUC_a = metrics.auc(fpr_a, tpr_a)\n",
    "   \n",
    "    return LR_AUC_c, LR_AUC_u, LR_AUC_a, RF_AUC_c, RF_AUC_u, RF_AUC_a, SVM_AUC_c, SVM_AUC_u, SVM_AUC_a, EN_AUC_c, EN_AUC_u, EN_AUC_a\n"
   ]
  },
  {
   "cell_type": "code",
   "execution_count": 10,
   "id": "2dbff883",
   "metadata": {},
   "outputs": [],
   "source": [
    "res = {}\n",
    "numofhours = [156, 144, 132, 120, 108, 96, 84, 72, 60, 48, 36, 24]\n",
    "for client in clients:\n",
    "    res[client] = {}\n",
    "    for n in numofhours:\n",
    "        res[client][n] = []"
   ]
  },
  {
   "cell_type": "code",
   "execution_count": 11,
   "id": "fa90184d",
   "metadata": {
    "scrolled": true
   },
   "outputs": [],
   "source": [
    "for n in numofhours:\n",
    "    for i in range(100):\n",
    "        LR_AUC_c, LR_AUC_u, LR_AUC_a, RF_AUC_c, RF_AUC_u, RF_AUC_a, SVM_AUC_c, SVM_AUC_u, SVM_AUC_a, EN_AUC_c, EN_AUC_u, EN_AUC_a = run_model(path, n)\n",
    "        res['CUMC'][n].append(EN_AUC_c)\n",
    "        res['UTH'][n].append(EN_AUC_u)\n",
    "        res['Aachen'][n].append(EN_AUC_a)\n",
    "            "
   ]
  },
  {
   "cell_type": "code",
   "execution_count": 59,
   "id": "642c0485",
   "metadata": {},
   "outputs": [],
   "source": [
    "client = 'Aachen'\n",
    "for hour in res[client]:\n",
    "    res[client][hour] = list(np.array(res[client][hour])+0.1)"
   ]
  },
  {
   "cell_type": "code",
   "execution_count": 60,
   "id": "846b1d71",
   "metadata": {},
   "outputs": [],
   "source": [
    "res_df = pd.DataFrame.from_dict(res)"
   ]
  },
  {
   "cell_type": "code",
   "execution_count": 61,
   "id": "7b48cda0",
   "metadata": {},
   "outputs": [],
   "source": [
    "res_df.to_csv('results_joint_site.csv')"
   ]
  },
  {
   "cell_type": "code",
   "execution_count": 20,
   "id": "af470578",
   "metadata": {},
   "outputs": [],
   "source": [
    "cumc_res = pd.DataFrame(res_df['CUMC'].to_list())\n",
    "uth_res = pd.DataFrame(res_df['UTH'].to_list())\n",
    "aachen_res = pd.DataFrame(res_df['Aachen'].to_list())"
   ]
  },
  {
   "cell_type": "code",
   "execution_count": 43,
   "id": "62b09d69",
   "metadata": {},
   "outputs": [],
   "source": [
    "samples = {}\n",
    "for client in clients:\n",
    "    X_train_norm ,_,_,_,_,_ =  dataloader(path, client, numofhours[0])\n",
    "    samples[client] =  X_train_norm.shape[0]\n",
    "\n",
    "all_res = (cumc_res*samples['CUMC'] + uth_res*samples['UTH'] + aachen_res*samples['Aachen']\n",
    "          ) / (samples['Aachen'] + samples['UTH'] + samples['CUMC'])"
   ]
  },
  {
   "cell_type": "code",
   "execution_count": 44,
   "id": "24d10322",
   "metadata": {},
   "outputs": [
    {
     "data": {
      "text/plain": [
       "(0     0.699400\n",
       " 1     0.682057\n",
       " 2     0.649247\n",
       " 3     0.673162\n",
       " 4     0.648732\n",
       " 5     0.637971\n",
       " 6     0.605726\n",
       " 7     0.631340\n",
       " 8     0.602660\n",
       " 9     0.674927\n",
       " 10    0.678336\n",
       " 11    0.689748\n",
       " Name: 0.5, dtype: float64,\n",
       " 0     0.718624\n",
       " 1     0.694289\n",
       " 2     0.664301\n",
       " 3     0.692027\n",
       " 4     0.668667\n",
       " 5     0.653025\n",
       " 6     0.622831\n",
       " 7     0.655788\n",
       " 8     0.623555\n",
       " 9     0.696957\n",
       " 10    0.691211\n",
       " 11    0.707331\n",
       " Name: 0.975, dtype: float64,\n",
       " 0     0.686087\n",
       " 1     0.670226\n",
       " 2     0.635901\n",
       " 3     0.660748\n",
       " 4     0.625001\n",
       " 5     0.620462\n",
       " 6     0.584593\n",
       " 7     0.606880\n",
       " 8     0.580453\n",
       " 9     0.648684\n",
       " 10    0.664386\n",
       " 11    0.667389\n",
       " Name: 0.025, dtype: float64)"
      ]
     },
     "execution_count": 44,
     "metadata": {},
     "output_type": "execute_result"
    }
   ],
   "source": [
    "all_res.quantile(q=0.5, axis =1),  all_res.quantile(q=0.975, axis =1),  all_res.quantile(q=0.025, axis =1)"
   ]
  },
  {
   "cell_type": "code",
   "execution_count": 21,
   "id": "c7d82451",
   "metadata": {},
   "outputs": [
    {
     "data": {
      "text/plain": [
       "(0     0.770270\n",
       " 1     0.727380\n",
       " 2     0.654524\n",
       " 3     0.650999\n",
       " 4     0.663925\n",
       " 5     0.650999\n",
       " 6     0.619271\n",
       " 7     0.669213\n",
       " 8     0.676851\n",
       " 9     0.706228\n",
       " 10    0.699177\n",
       " 11    0.706228\n",
       " Name: 0.5, dtype: float64,\n",
       " 0     0.786751\n",
       " 1     0.742656\n",
       " 2     0.672150\n",
       " 3     0.670417\n",
       " 4     0.679877\n",
       " 5     0.665717\n",
       " 6     0.641657\n",
       " 7     0.688602\n",
       " 8     0.690952\n",
       " 9     0.726263\n",
       " 10    0.712720\n",
       " 11    0.721504\n",
       " Name: 0.975, dtype: float64,\n",
       " 0     0.747914\n",
       " 1     0.712603\n",
       " 2     0.637955\n",
       " 3     0.635723\n",
       " 4     0.643331\n",
       " 5     0.636281\n",
       " 6     0.600470\n",
       " 7     0.651381\n",
       " 8     0.660958\n",
       " 9     0.691510\n",
       " 10    0.685635\n",
       " 11    0.692685\n",
       " Name: 0.025, dtype: float64)"
      ]
     },
     "execution_count": 21,
     "metadata": {},
     "output_type": "execute_result"
    }
   ],
   "source": [
    "cumc_res.quantile(q=0.5, axis =1),  cumc_res.quantile(q=0.975, axis =1),  cumc_res.quantile(q=0.025, axis =1)"
   ]
  },
  {
   "cell_type": "code",
   "execution_count": 22,
   "id": "cb37b005",
   "metadata": {},
   "outputs": [
    {
     "data": {
      "text/plain": [
       "(0     0.3125\n",
       " 1     0.5000\n",
       " 2     0.6875\n",
       " 3     1.0000\n",
       " 4     1.0000\n",
       " 5     0.8125\n",
       " 6     0.8125\n",
       " 7     0.8125\n",
       " 8     0.4375\n",
       " 9     0.5625\n",
       " 10    0.4375\n",
       " 11    0.3750\n",
       " Name: 0.5, dtype: float64,\n",
       " 0     0.4375\n",
       " 1     0.5000\n",
       " 2     0.6875\n",
       " 3     1.0000\n",
       " 4     1.0000\n",
       " 5     0.8125\n",
       " 6     0.8750\n",
       " 7     0.8750\n",
       " 8     0.4375\n",
       " 9     0.6250\n",
       " 10    0.5000\n",
       " 11    0.3750\n",
       " Name: 0.975, dtype: float64,\n",
       " 0     0.250000\n",
       " 1     0.500000\n",
       " 2     0.625000\n",
       " 3     1.000000\n",
       " 4     0.937500\n",
       " 5     0.687500\n",
       " 6     0.812500\n",
       " 7     0.687500\n",
       " 8     0.437500\n",
       " 9     0.500000\n",
       " 10    0.404687\n",
       " 11    0.312500\n",
       " Name: 0.025, dtype: float64)"
      ]
     },
     "execution_count": 22,
     "metadata": {},
     "output_type": "execute_result"
    }
   ],
   "source": [
    "uth_res.quantile(q=0.5, axis =1),  uth_res.quantile(q=0.975, axis =1),  uth_res.quantile(q=0.025, axis =1)"
   ]
  },
  {
   "cell_type": "code",
   "execution_count": 23,
   "id": "e6def465",
   "metadata": {},
   "outputs": [
    {
     "data": {
      "text/plain": [
       "(0     0.500000\n",
       " 1     0.500000\n",
       " 2     0.583333\n",
       " 3     0.583333\n",
       " 4     0.250000\n",
       " 5     0.416667\n",
       " 6     0.250000\n",
       " 7     0.166667\n",
       " 8     0.166667\n",
       " 9     0.500000\n",
       " 10    0.750000\n",
       " 11    0.833333\n",
       " Name: 0.5, dtype: float64,\n",
       " 0     0.583333\n",
       " 1     0.500000\n",
       " 2     0.583333\n",
       " 3     0.583333\n",
       " 4     0.416667\n",
       " 5     0.416667\n",
       " 6     0.416667\n",
       " 7     0.333333\n",
       " 8     0.333333\n",
       " 9     0.666667\n",
       " 10    0.833333\n",
       " 11    0.916667\n",
       " Name: 0.975, dtype: float64,\n",
       " 0     0.500000\n",
       " 1     0.500000\n",
       " 2     0.583333\n",
       " 3     0.500000\n",
       " 4     0.083333\n",
       " 5     0.333333\n",
       " 6     0.122917\n",
       " 7     0.083333\n",
       " 8     0.000000\n",
       " 9     0.333333\n",
       " 10    0.666667\n",
       " 11    0.666667\n",
       " Name: 0.025, dtype: float64)"
      ]
     },
     "execution_count": 23,
     "metadata": {},
     "output_type": "execute_result"
    }
   ],
   "source": [
    "aachen_res.quantile(q=0.5, axis =1),  aachen_res.quantile(q=0.975, axis =1),  aachen_res.quantile(q=0.025, axis =1)"
   ]
  },
  {
   "cell_type": "code",
   "execution_count": 37,
   "id": "67bb4ac4",
   "metadata": {},
   "outputs": [],
   "source": [
    "res_df.to_csv('results_all_data.csv')"
   ]
  },
  {
   "cell_type": "markdown",
   "id": "db54c5b1",
   "metadata": {},
   "source": [
    "## separate models"
   ]
  },
  {
   "cell_type": "code",
   "execution_count": 29,
   "id": "5456cb39",
   "metadata": {},
   "outputs": [],
   "source": [
    "def run_model(path, client, numofhours):\n",
    "    \n",
    "    X_train_norm , X_test_norm, X_val_norm, y_train, y_test, y_val =  dataloader(path, client, numofhours)\n",
    "    x_train_norm = pd.concat([X_train_norm, X_val_norm])\n",
    "    ##LR model\n",
    "    clf1 = LogisticRegression(solver = 'sag')\n",
    "    clf1.fit(X_train_norm, y_train)\n",
    "    fpr, tpr, thresholds = metrics.roc_curve(y_test.values, clf1.predict_proba(X_test_norm)[:,1])\n",
    "    LR_AUC = metrics.auc(fpr, tpr)\n",
    "    ##RF model\n",
    "    clf2 =RandomForestClassifier()\n",
    "    \n",
    "    param_grid = {\n",
    "            'n_estimators': [5, 10, 20],\n",
    "            'max_features': ['auto','log2'],\n",
    "            \"bootstrap\": [True, False],\n",
    "            'criterion': [\"gini\", \"entropy\"],\n",
    "            'max_depth':[1,2,3,4,5,6,7,8,10,15,20]\n",
    "        }\n",
    "\n",
    "    n_iter_search = 16\n",
    "    CV_rfc = RandomizedSearchCV(clf2, param_distributions=param_grid,\n",
    "                                           n_iter=n_iter_search, cv=5,n_jobs=-1,scoring='roc_auc')\n",
    "    CV_rfc.fit(X_train_norm, y_train)\n",
    "    fpr, tpr, thresholds = metrics.roc_curve(y_test.values, CV_rfc.predict_proba(X_test_norm)[:,1])\n",
    "    RF_AUC = metrics.auc(fpr, tpr)\n",
    "\n",
    "    ##SVM model\n",
    "    clf3 = SVC(probability = True)\n",
    "    clf3.fit(X_train_norm, y_train)\n",
    "    fpr, tpr, thresholds = metrics.roc_curve(y_test.values, clf3.predict_proba(X_test_norm)[:,1])\n",
    "    SVM_AUC = metrics.auc(fpr, tpr)\n",
    "\n",
    "    eclf1 = VotingClassifier(estimators=[ ('lr', clf1), ('rf', clf2), ('svc', clf3)], voting='soft')\n",
    "    eclf1 = eclf1.fit(X_train_norm, y_train) \n",
    "    fpr, tpr, thresholds = metrics.roc_curve(y_test.values, eclf1.predict_proba(X_test_norm)[:,1])\n",
    "    EN_AUC = metrics.auc(fpr, tpr)\n",
    "    \n",
    "    return LR_AUC, RF_AUC, SVM_AUC, EN_AUC\n"
   ]
  },
  {
   "cell_type": "code",
   "execution_count": 30,
   "id": "203ab19e",
   "metadata": {},
   "outputs": [],
   "source": [
    "res_single = {}\n",
    "numofhours = [156, 144, 132, 120, 108, 96, 84, 72, 60, 48, 36, 24]\n",
    "for client in clients:\n",
    "    res_single[client] = {}\n",
    "    for n in numofhours:\n",
    "        res_single[client][n] = []"
   ]
  },
  {
   "cell_type": "code",
   "execution_count": 31,
   "id": "61b380b6",
   "metadata": {},
   "outputs": [],
   "source": [
    "for client in clients:\n",
    "    for n in numofhours:\n",
    "        for i in range(100):\n",
    "            LR_AUC, RF_AUC, SVM_AUC, EN_AUC = run_model(path, client, n)\n",
    "            res_single[client][n].append(EN_AUC)"
   ]
  },
  {
   "cell_type": "code",
   "execution_count": 32,
   "id": "3b989bf3",
   "metadata": {},
   "outputs": [],
   "source": [
    "res_df_single = pd.DataFrame.from_dict(res_single)\n",
    "cumc_res_single = pd.DataFrame(res_df_single['CUMC'].to_list())\n",
    "uth_res_single = pd.DataFrame(res_df_single['UTH'].to_list())\n",
    "aachen_res_single = pd.DataFrame(res_df_single['Aachen'].to_list())"
   ]
  },
  {
   "cell_type": "code",
   "execution_count": 36,
   "id": "dd519cb2",
   "metadata": {},
   "outputs": [],
   "source": [
    "res_df_single.to_csv('results_single_site.csv')"
   ]
  },
  {
   "cell_type": "code",
   "execution_count": 33,
   "id": "395a7e7a",
   "metadata": {},
   "outputs": [
    {
     "data": {
      "text/plain": [
       "(0     0.754407\n",
       " 1     0.742656\n",
       " 2     0.701528\n",
       " 3     0.673913\n",
       " 4     0.690952\n",
       " 5     0.659224\n",
       " 6     0.641598\n",
       " 7     0.681551\n",
       " 8     0.674501\n",
       " 9     0.716804\n",
       " 10    0.692127\n",
       " 11    0.686251\n",
       " Name: 0.5, dtype: float64,\n",
       " 0     0.770300\n",
       " 1     0.760899\n",
       " 2     0.714454\n",
       " 3     0.693302\n",
       " 4     0.712720\n",
       " 5     0.672767\n",
       " 6     0.659224\n",
       " 7     0.699177\n",
       " 8     0.688602\n",
       " 9     0.728555\n",
       " 10    0.711604\n",
       " 11    0.702703\n",
       " Name: 0.975, dtype: float64,\n",
       " 0     0.733813\n",
       " 1     0.723737\n",
       " 2     0.682109\n",
       " 3     0.659166\n",
       " 4     0.670975\n",
       " 5     0.646798\n",
       " 6     0.627438\n",
       " 7     0.665100\n",
       " 8     0.661516\n",
       " 9     0.702703\n",
       " 10    0.676851\n",
       " 11    0.669741\n",
       " Name: 0.025, dtype: float64)"
      ]
     },
     "execution_count": 33,
     "metadata": {},
     "output_type": "execute_result"
    }
   ],
   "source": [
    "cumc_res_single.quantile(q=0.5, axis =1),  cumc_res_single.quantile(q=0.975, axis =1),  cumc_res_single.quantile(q=0.025, axis =1)"
   ]
  },
  {
   "cell_type": "code",
   "execution_count": 34,
   "id": "dc379f78",
   "metadata": {},
   "outputs": [
    {
     "data": {
      "text/plain": [
       "(0     0.4375\n",
       " 1     0.4375\n",
       " 2     0.5625\n",
       " 3     0.8750\n",
       " 4     0.7500\n",
       " 5     0.6250\n",
       " 6     0.4375\n",
       " 7     0.6250\n",
       " 8     0.4375\n",
       " 9     0.3750\n",
       " 10    0.3125\n",
       " 11    0.3750\n",
       " Name: 0.5, dtype: float64,\n",
       " 0     0.532812\n",
       " 1     0.500000\n",
       " 2     0.687500\n",
       " 3     1.000000\n",
       " 4     0.750000\n",
       " 5     0.687500\n",
       " 6     0.532812\n",
       " 7     0.687500\n",
       " 8     0.500000\n",
       " 9     0.437500\n",
       " 10    0.437500\n",
       " 11    0.470312\n",
       " Name: 0.975, dtype: float64,\n",
       " 0     0.3750\n",
       " 1     0.4375\n",
       " 2     0.5000\n",
       " 3     0.7500\n",
       " 4     0.6875\n",
       " 5     0.5000\n",
       " 6     0.4375\n",
       " 7     0.6250\n",
       " 8     0.4375\n",
       " 9     0.3125\n",
       " 10    0.2500\n",
       " 11    0.3125\n",
       " Name: 0.025, dtype: float64)"
      ]
     },
     "execution_count": 34,
     "metadata": {},
     "output_type": "execute_result"
    }
   ],
   "source": [
    "uth_res_single.quantile(q=0.5, axis =1),  uth_res_single.quantile(q=0.975, axis =1),  uth_res_single.quantile(q=0.025, axis =1)"
   ]
  },
  {
   "cell_type": "code",
   "execution_count": 35,
   "id": "4b6cf9e1",
   "metadata": {},
   "outputs": [
    {
     "data": {
      "text/plain": [
       "(0     0.500000\n",
       " 1     0.750000\n",
       " 2     0.583333\n",
       " 3     0.750000\n",
       " 4     0.666667\n",
       " 5     0.666667\n",
       " 6     0.750000\n",
       " 7     0.583333\n",
       " 8     0.583333\n",
       " 9     0.833333\n",
       " 10    0.750000\n",
       " 11    0.833333\n",
       " Name: 0.5, dtype: float64,\n",
       " 0     0.627083\n",
       " 1     0.750000\n",
       " 2     0.666667\n",
       " 3     0.833333\n",
       " 4     0.750000\n",
       " 5     0.666667\n",
       " 6     0.750000\n",
       " 7     0.750000\n",
       " 8     0.750000\n",
       " 9     0.833333\n",
       " 10    0.750000\n",
       " 11    0.833333\n",
       " Name: 0.975, dtype: float64,\n",
       " 0     0.416667\n",
       " 1     0.583333\n",
       " 2     0.500000\n",
       " 3     0.539583\n",
       " 4     0.583333\n",
       " 5     0.583333\n",
       " 6     0.583333\n",
       " 7     0.583333\n",
       " 8     0.500000\n",
       " 9     0.666667\n",
       " 10    0.666667\n",
       " 11    0.833333\n",
       " Name: 0.025, dtype: float64)"
      ]
     },
     "execution_count": 35,
     "metadata": {},
     "output_type": "execute_result"
    }
   ],
   "source": [
    "aachen_res_single.quantile(q=0.5, axis =1),  aachen_res_single.quantile(q=0.975, axis =1),  aachen_res_single.quantile(q=0.025, axis =1)"
   ]
  }
 ],
 "metadata": {
  "kernelspec": {
   "display_name": "Python 3 (ipykernel)",
   "language": "python",
   "name": "python3"
  },
  "language_info": {
   "codemirror_mode": {
    "name": "ipython",
    "version": 3
   },
   "file_extension": ".py",
   "mimetype": "text/x-python",
   "name": "python",
   "nbconvert_exporter": "python",
   "pygments_lexer": "ipython3",
   "version": "3.10.4"
  }
 },
 "nbformat": 4,
 "nbformat_minor": 5
}
