{
 "cells": [
  {
   "cell_type": "code",
   "execution_count": 3,
   "id": "bf1eebf5",
   "metadata": {},
   "outputs": [],
   "source": [
    "import os\n",
    "os.environ['TF_CPP_MIN_LOG_LEVEL'] = '3'\n",
    "import warnings\n",
    "warnings.filterwarnings(\"ignore\")\n",
    "import argparse\n",
    "import concurrent.futures\n",
    "import contextlib\n",
    "import matplotlib.pyplot as plt\n",
    "import numpy as np\n",
    "import pandas as pd\n",
    "import seaborn as sns\n",
    "import shutil\n",
    "import spur\n",
    "import subprocess\n",
    "import sys\n",
    "import tensorflow as tf\n",
    "import time\n",
    "from sklearn import metrics\n",
    "from sklearn.ensemble import RandomForestClassifier\n",
    "sns.set()\n",
    "tf.compat.v1.logging.set_verbosity(tf.compat.v1.logging.ERROR)\n",
    "import ast"
   ]
  },
  {
   "cell_type": "code",
   "execution_count": 2,
   "id": "2a157fe6",
   "metadata": {},
   "outputs": [],
   "source": [
    "path = '/Users/ae2722/Documents/DCI_code/'"
   ]
  },
  {
   "cell_type": "code",
   "execution_count": 4,
   "id": "2e68856a",
   "metadata": {},
   "outputs": [],
   "source": [
    "clients = 'CUMC,UTH,Aachen'.split(',')"
   ]
  },
  {
   "cell_type": "code",
   "execution_count": 15,
   "id": "92037a5a",
   "metadata": {},
   "outputs": [],
   "source": [
    "def feature_selection(path, clients, numofhours):\n",
    "    feature_scores = np.zeros(134)\n",
    "    for client in clients:\n",
    "        command = f'python {path}client/clientServer-dataset.py --client={client} -hr={numofhours} --features=True'\n",
    "        command = command.split(' ')\n",
    "        output = subprocess.check_output(command)\n",
    "        out = output.decode('utf-8')\n",
    "        out_ = out.replace('[','').replace(']','').replace('\\r\\n','').split(' ')\n",
    "        size = int(out_[0])\n",
    "        scores = out_[1:]\n",
    "        feature_scores += [float(x)*size for x in scores]\n",
    "    features = np.argpartition(feature_scores,-70)[-70:]\n",
    "    np.savetxt(f'{path}client/Data_subpopn/features_{numofhours}.csv', features)\n",
    "    return"
   ]
  },
  {
   "cell_type": "code",
   "execution_count": 16,
   "id": "1139212e",
   "metadata": {},
   "outputs": [],
   "source": [
    "def create_data(path, clients, numofhours):\n",
    "    for client in clients:\n",
    "        command = f'python {path}client/clientServer-dataset.py -cl={client} -hr={numofhours}'\n",
    "        command = command.split(' ')\n",
    "        subprocess.check_output(command)"
   ]
  },
  {
   "cell_type": "code",
   "execution_count": 18,
   "id": "6ff3be63",
   "metadata": {
    "scrolled": true
   },
   "outputs": [],
   "source": [
    "range_idx = np.flip(np.arange(0, 168, 12))\n",
    "for numofhours in range_idx:\n",
    "    feature_selection(path, clients, numofhours)\n",
    "    create_data(path, clients, numofhours)\n"
   ]
  },
  {
   "cell_type": "code",
   "execution_count": null,
   "id": "dde1fff2",
   "metadata": {},
   "outputs": [],
   "source": [
    "def main():\n",
    "    parser = argparse.ArgumentParser()\n",
    "    parser.add_argument('-s0','--centralServer', default = '')\n",
    "    parser.add_argument('-cl','--clients', default = '')\n",
    "    parser.add_argument('-pt','--path', default = '/Users/ae2722/Documents/DCI_code/')\n",
    "    \n",
    "    args = parser.parse_args()\n",
    "    \n",
    "    centralServer = args.centralServer\n",
    "    clients = args.clients\n",
    "    path = args.path\n",
    "    \n",
    "    clients_ = clients.split(',')\n",
    "    range_idx = np.flip(np.arange(0, 168, 12))\n",
    "    results = {}\n",
    "    \n",
    "    for numofhours in range_idx:\n",
    "        feature_selection(path, clients, numofhours)\n",
    "        create_data(path, clients, numofhours)\n",
    "\n",
    "if __name__ == '__main__':\n",
    "    main()\n",
    "    "
   ]
  }
 ],
 "metadata": {
  "kernelspec": {
   "display_name": "Python 3 (ipykernel)",
   "language": "python",
   "name": "python3"
  },
  "language_info": {
   "codemirror_mode": {
    "name": "ipython",
    "version": 3
   },
   "file_extension": ".py",
   "mimetype": "text/x-python",
   "name": "python",
   "nbconvert_exporter": "python",
   "pygments_lexer": "ipython3",
   "version": "3.10.4"
  }
 },
 "nbformat": 4,
 "nbformat_minor": 5
}
